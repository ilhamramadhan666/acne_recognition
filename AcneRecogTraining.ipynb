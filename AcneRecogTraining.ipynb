{
  "nbformat": 4,
  "nbformat_minor": 0,
  "metadata": {
    "colab": {
      "name": "Copy of capstone_facial_health.ipynb",
      "provenance": [],
      "collapsed_sections": [
        "VXYRIhUVGDwK"
      ]
    },
    "kernelspec": {
      "name": "python3",
      "display_name": "Python 3"
    },
    "language_info": {
      "name": "python"
    }
  },
  "cells": [
    {
      "cell_type": "markdown",
      "source": [
        "This file is used for training in Google Colab."
      ],
      "metadata": {
        "id": "Sb43vDRJvrdL"
      }
    },
    {
      "cell_type": "markdown",
      "source": [
        "### Lib import"
      ],
      "metadata": {
        "id": "B9qIuUQZcBvn"
      }
    },
    {
      "cell_type": "code",
      "source": [
        "# TensorFlow and tf.keras\n",
        "print(\"Installing dependencies for Colab environment\")\n",
        "!pip install -Uq grpcio==1.26.0\n",
        "\n",
        "import tensorflow as tf\n",
        "from tensorflow import keras\n",
        "from google.colab import drive\n",
        "# Helper libraries\n",
        "import numpy as np\n",
        "import matplotlib.pyplot as plt\n",
        "import os\n",
        "import subprocess\n",
        "import cv2\n",
        "import sys\n",
        "import pickle\n",
        "\n",
        "drive.mount('/content/gdrive')\n",
        "print('TensorFlow version: {}'.format(tf.__version__))"
      ],
      "metadata": {
        "colab": {
          "base_uri": "https://localhost:8080/"
        },
        "id": "XnXhj7IMcDCH",
        "outputId": "37c4da1b-a62c-4443-a09d-ed52f324bf0c"
      },
      "execution_count": 1,
      "outputs": [
        {
          "output_type": "stream",
          "name": "stdout",
          "text": [
            "Installing dependencies for Colab environment\n",
            "\u001b[K     |████████████████████████████████| 2.4 MB 8.5 MB/s \n",
            "\u001b[?25hMounted at /content/gdrive\n",
            "TensorFlow version: 2.8.2\n"
          ]
        }
      ]
    },
    {
      "cell_type": "code",
      "source": [
        "!pip install pyyaml h5py  # Required to save models in HDF5 format"
      ],
      "metadata": {
        "colab": {
          "base_uri": "https://localhost:8080/"
        },
        "id": "JscKmOurtoH3",
        "outputId": "b6e65714-5026-4951-9eb2-fee5c73c76e7"
      },
      "execution_count": 2,
      "outputs": [
        {
          "output_type": "stream",
          "name": "stdout",
          "text": [
            "Looking in indexes: https://pypi.org/simple, https://us-python.pkg.dev/colab-wheels/public/simple/\n",
            "Requirement already satisfied: pyyaml in /usr/local/lib/python3.7/dist-packages (3.13)\n",
            "Requirement already satisfied: h5py in /usr/local/lib/python3.7/dist-packages (3.1.0)\n",
            "Requirement already satisfied: cached-property in /usr/local/lib/python3.7/dist-packages (from h5py) (1.5.2)\n",
            "Requirement already satisfied: numpy>=1.14.5 in /usr/local/lib/python3.7/dist-packages (from h5py) (1.21.6)\n"
          ]
        }
      ]
    },
    {
      "cell_type": "markdown",
      "source": [
        "### Unzip files "
      ],
      "metadata": {
        "id": "aePTIJBNdhEg"
      }
    },
    {
      "cell_type": "markdown",
      "source": [
        "Unused. Because the data is directly loaded from gdrive."
      ],
      "metadata": {
        "id": "U_NLQIZ4u8oB"
      }
    },
    {
      "cell_type": "code",
      "source": [
        "!unzip /acnes_and_rosacea.zip -d /tmp"
      ],
      "metadata": {
        "colab": {
          "base_uri": "https://localhost:8080/"
        },
        "id": "viQiy0K_dfFA",
        "outputId": "728a4cd6-c62d-433c-9c71-1acacbbcd2d4"
      },
      "execution_count": null,
      "outputs": [
        {
          "output_type": "stream",
          "name": "stdout",
          "text": [
            "unzip:  cannot find or open /acnes_and_rosacea.zip, /acnes_and_rosacea.zip.zip or /acnes_and_rosacea.zip.ZIP.\n"
          ]
        }
      ]
    },
    {
      "cell_type": "markdown",
      "source": [
        "### load data dan preprocess"
      ],
      "metadata": {
        "id": "LY8emEh9helz"
      }
    },
    {
      "cell_type": "code",
      "source": [
        "data_dir = \"/content/gdrive/MyDrive/acnes_and_rosacea\""
      ],
      "metadata": {
        "id": "tIebHKpHg6Ni"
      },
      "execution_count": 3,
      "outputs": []
    },
    {
      "cell_type": "code",
      "source": [
        "import tensorflow_hub as hub"
      ],
      "metadata": {
        "id": "DKDozNM6wspk"
      },
      "execution_count": 4,
      "outputs": []
    },
    {
      "cell_type": "code",
      "source": [
        "train_datagen = tf.keras.preprocessing.image.ImageDataGenerator(\n",
        "        rescale=1./255,\n",
        "        shear_range=0.5,\n",
        "        zoom_range=0.8,\n",
        "        rotation_range=90,\n",
        "        horizontal_flip=True)\n",
        "val_datagen = tf.keras.preprocessing.image.ImageDataGenerator(rescale=1./255)\n",
        "test_datagen = tf.keras.preprocessing.image.ImageDataGenerator(rescale=1./255)\n",
        "\n",
        "train_data = train_datagen.flow_from_directory(\n",
        "        '/content/gdrive/MyDrive/acnes_and_rosacea/training',\n",
        "        target_size=(224, 224),\n",
        "        batch_size=32,\n",
        "        class_mode='categorical',\n",
        "        shuffle=True)\n",
        "validation_data = val_datagen.flow_from_directory(\n",
        "        '/content/gdrive/MyDrive/acnes_and_rosacea/validation',\n",
        "        target_size=(224, 224),\n",
        "        batch_size=32,\n",
        "        class_mode='categorical')\n",
        "test_data = test_datagen.flow_from_directory(\n",
        "        '/content/gdrive/MyDrive/acnes_and_rosacea/test',\n",
        "        target_size=(224, 224),\n",
        "        batch_size=32,\n",
        "        class_mode='categorical')"
      ],
      "metadata": {
        "colab": {
          "base_uri": "https://localhost:8080/"
        },
        "id": "aGt3L2ZEhiso",
        "outputId": "ea38b317-f8b7-4443-af1a-e63cfa8825dc"
      },
      "execution_count": 5,
      "outputs": [
        {
          "output_type": "stream",
          "name": "stdout",
          "text": [
            "Found 766 images belonging to 11 classes.\n",
            "Found 80 images belonging to 11 classes.\n",
            "Found 29 images belonging to 11 classes.\n"
          ]
        }
      ]
    },
    {
      "cell_type": "markdown",
      "source": [
        "target size = (244, 244) mengikuti mobilenetv2 feature extractor"
      ],
      "metadata": {
        "id": "NSwQBiwhsHaU"
      }
    },
    {
      "cell_type": "code",
      "source": [
        "callback = tf.keras.callbacks.EarlyStopping(monitor='accuracy', patience=4)"
      ],
      "metadata": {
        "id": "y0vv026Mg9Eo"
      },
      "execution_count": 6,
      "outputs": []
    },
    {
      "cell_type": "markdown",
      "source": [
        "Callback for early stopping. Monitoring accuracy with patience of 4 epochs."
      ],
      "metadata": {
        "id": "uyED-4eJsSbr"
      }
    },
    {
      "cell_type": "markdown",
      "source": [
        "### using mobile net feature extractor"
      ],
      "metadata": {
        "id": "l-ZsyrLXNw2s"
      }
    },
    {
      "cell_type": "code",
      "source": [
        "mobilenet_v2 = \"https://tfhub.dev/google/tf2-preview/mobilenet_v2/feature_vector/4\"\n",
        "feature_extractor_model = mobilenet_v2\n",
        "\n",
        "feature_extractor_layer = hub.KerasLayer(\n",
        "    feature_extractor_model,\n",
        "    input_shape=(224, 224, 3),\n",
        "    trainable=True)"
      ],
      "metadata": {
        "id": "QKUyj3LUwE_1"
      },
      "execution_count": 7,
      "outputs": []
    },
    {
      "cell_type": "markdown",
      "source": [
        "doing fine tuning"
      ],
      "metadata": {
        "id": "Oue2ZYleere1"
      }
    },
    {
      "cell_type": "markdown",
      "source": [
        "### building model and compile"
      ],
      "metadata": {
        "id": "c19jPVs7qzND"
      }
    },
    {
      "cell_type": "code",
      "source": [
        "num_classes = 11\n",
        "\n",
        "model = tf.keras.Sequential([\n",
        "  #mobilenet,\n",
        "  #base_model,\n",
        "  feature_extractor_layer,\n",
        "  #tf.keras.layers.Flatten(),\n",
        "  #tf.keras.layers.Rescaling(1./255),\n",
        "  tf.keras.layers.Dense(512, activation='relu'),\n",
        "  tf.keras.layers.Dropout(0.3),\n",
        "  tf.keras.layers.Dense(512, activation='relu'),\n",
        "  tf.keras.layers.Dropout(0.1),\n",
        "  tf.keras.layers.Dense(num_classes, activation='softmax')\n",
        "])"
      ],
      "metadata": {
        "id": "hBLBktdpnJOS"
      },
      "execution_count": 8,
      "outputs": []
    },
    {
      "cell_type": "code",
      "source": [
        "model.build()\n",
        "model.summary()"
      ],
      "metadata": {
        "id": "sAEKKBMJ6vQi",
        "colab": {
          "base_uri": "https://localhost:8080/"
        },
        "outputId": "a235f544-cf32-4fac-d296-2f564c1f3f01"
      },
      "execution_count": 9,
      "outputs": [
        {
          "output_type": "stream",
          "name": "stdout",
          "text": [
            "Model: \"sequential\"\n",
            "_________________________________________________________________\n",
            " Layer (type)                Output Shape              Param #   \n",
            "=================================================================\n",
            " keras_layer (KerasLayer)    (None, 1280)              2257984   \n",
            "                                                                 \n",
            " dense (Dense)               (None, 512)               655872    \n",
            "                                                                 \n",
            " dropout (Dropout)           (None, 512)               0         \n",
            "                                                                 \n",
            " dense_1 (Dense)             (None, 512)               262656    \n",
            "                                                                 \n",
            " dropout_1 (Dropout)         (None, 512)               0         \n",
            "                                                                 \n",
            " dense_2 (Dense)             (None, 11)                5643      \n",
            "                                                                 \n",
            "=================================================================\n",
            "Total params: 3,182,155\n",
            "Trainable params: 3,148,043\n",
            "Non-trainable params: 34,112\n",
            "_________________________________________________________________\n"
          ]
        }
      ]
    },
    {
      "cell_type": "code",
      "source": [
        "model.compile(\n",
        "  optimizer=tf.keras.optimizers.SGD(learning_rate=0.002, momentum=0.9),\n",
        "  loss='categorical_crossentropy',\n",
        "  metrics=['accuracy'])"
      ],
      "metadata": {
        "id": "vRkN2HimnQtQ"
      },
      "execution_count": 10,
      "outputs": []
    },
    {
      "cell_type": "code",
      "source": [
        "history = model.fit(\n",
        "  train_data,\n",
        "  epochs=30,\n",
        "  validation_data=validation_data,\n",
        "  callbacks=[callback])"
      ],
      "metadata": {
        "id": "2vBmplPEnQnh",
        "colab": {
          "base_uri": "https://localhost:8080/"
        },
        "outputId": "d053807a-405a-4c6b-9e1d-8f7bc69a1d15"
      },
      "execution_count": 11,
      "outputs": [
        {
          "output_type": "stream",
          "name": "stdout",
          "text": [
            "Epoch 1/30\n",
            "24/24 [==============================] - 274s 11s/step - loss: 2.3097 - accuracy: 0.2180 - val_loss: 2.1126 - val_accuracy: 0.3125\n",
            "Epoch 2/30\n",
            "24/24 [==============================] - 175s 7s/step - loss: 1.9275 - accuracy: 0.3538 - val_loss: 1.9655 - val_accuracy: 0.4000\n",
            "Epoch 3/30\n",
            "24/24 [==============================] - 179s 7s/step - loss: 1.7420 - accuracy: 0.4478 - val_loss: 1.8972 - val_accuracy: 0.3875\n",
            "Epoch 4/30\n",
            "24/24 [==============================] - 180s 7s/step - loss: 1.5280 - accuracy: 0.5157 - val_loss: 1.5775 - val_accuracy: 0.4250\n",
            "Epoch 5/30\n",
            "24/24 [==============================] - 186s 8s/step - loss: 1.4250 - accuracy: 0.5457 - val_loss: 1.4573 - val_accuracy: 0.5000\n",
            "Epoch 6/30\n",
            "24/24 [==============================] - 182s 8s/step - loss: 1.3063 - accuracy: 0.5627 - val_loss: 1.3772 - val_accuracy: 0.5625\n",
            "Epoch 7/30\n",
            "24/24 [==============================] - 180s 7s/step - loss: 1.2860 - accuracy: 0.5875 - val_loss: 1.3714 - val_accuracy: 0.5750\n",
            "Epoch 8/30\n",
            "24/24 [==============================] - 175s 7s/step - loss: 1.1600 - accuracy: 0.6149 - val_loss: 1.4143 - val_accuracy: 0.5375\n",
            "Epoch 9/30\n",
            "24/24 [==============================] - 176s 7s/step - loss: 1.1197 - accuracy: 0.6384 - val_loss: 1.3146 - val_accuracy: 0.6000\n",
            "Epoch 10/30\n",
            "24/24 [==============================] - 179s 7s/step - loss: 1.0384 - accuracy: 0.6749 - val_loss: 1.0339 - val_accuracy: 0.6250\n",
            "Epoch 11/30\n",
            "24/24 [==============================] - 178s 7s/step - loss: 0.9812 - accuracy: 0.6958 - val_loss: 1.0024 - val_accuracy: 0.7375\n",
            "Epoch 12/30\n",
            "24/24 [==============================] - 176s 7s/step - loss: 0.8938 - accuracy: 0.7010 - val_loss: 0.9233 - val_accuracy: 0.7375\n",
            "Epoch 13/30\n",
            "24/24 [==============================] - 177s 7s/step - loss: 0.8943 - accuracy: 0.7324 - val_loss: 0.9296 - val_accuracy: 0.7000\n",
            "Epoch 14/30\n",
            "24/24 [==============================] - 177s 7s/step - loss: 0.8688 - accuracy: 0.7258 - val_loss: 1.2801 - val_accuracy: 0.6375\n",
            "Epoch 15/30\n",
            "24/24 [==============================] - 181s 8s/step - loss: 0.9009 - accuracy: 0.7245 - val_loss: 1.0810 - val_accuracy: 0.6250\n",
            "Epoch 16/30\n",
            "24/24 [==============================] - 176s 7s/step - loss: 0.7657 - accuracy: 0.7794 - val_loss: 1.1494 - val_accuracy: 0.6875\n",
            "Epoch 17/30\n",
            "24/24 [==============================] - 178s 7s/step - loss: 0.8257 - accuracy: 0.7402 - val_loss: 1.1998 - val_accuracy: 0.6750\n",
            "Epoch 18/30\n",
            "24/24 [==============================] - 184s 8s/step - loss: 0.7153 - accuracy: 0.7728 - val_loss: 1.2757 - val_accuracy: 0.6750\n",
            "Epoch 19/30\n",
            "24/24 [==============================] - 180s 7s/step - loss: 0.7499 - accuracy: 0.7585 - val_loss: 1.0035 - val_accuracy: 0.7125\n",
            "Epoch 20/30\n",
            "24/24 [==============================] - 178s 7s/step - loss: 0.6924 - accuracy: 0.7846 - val_loss: 0.9527 - val_accuracy: 0.7250\n",
            "Epoch 21/30\n",
            "24/24 [==============================] - 176s 7s/step - loss: 0.6383 - accuracy: 0.8055 - val_loss: 1.1689 - val_accuracy: 0.6875\n",
            "Epoch 22/30\n",
            "24/24 [==============================] - 175s 7s/step - loss: 0.6225 - accuracy: 0.8146 - val_loss: 1.0974 - val_accuracy: 0.7250\n",
            "Epoch 23/30\n",
            "24/24 [==============================] - 180s 7s/step - loss: 0.5891 - accuracy: 0.8264 - val_loss: 1.0908 - val_accuracy: 0.6875\n",
            "Epoch 24/30\n",
            "24/24 [==============================] - 177s 7s/step - loss: 0.6250 - accuracy: 0.8094 - val_loss: 1.0521 - val_accuracy: 0.7250\n",
            "Epoch 25/30\n",
            "24/24 [==============================] - 177s 7s/step - loss: 0.6262 - accuracy: 0.8120 - val_loss: 1.2181 - val_accuracy: 0.6750\n",
            "Epoch 26/30\n",
            "24/24 [==============================] - 178s 7s/step - loss: 0.6213 - accuracy: 0.8107 - val_loss: 1.1816 - val_accuracy: 0.7250\n",
            "Epoch 27/30\n",
            "24/24 [==============================] - 175s 7s/step - loss: 0.5928 - accuracy: 0.8251 - val_loss: 1.1505 - val_accuracy: 0.7000\n"
          ]
        }
      ]
    },
    {
      "cell_type": "markdown",
      "source": [
        "### Plot history"
      ],
      "metadata": {
        "id": "5LQyCDF0Cf3y"
      }
    },
    {
      "cell_type": "code",
      "source": [
        "# summarize history for accuracy\n",
        "plt.plot(history.history['accuracy'])\n",
        "plt.plot(history.history['val_accuracy'])\n",
        "plt.title('model accuracy')\n",
        "plt.ylabel('accuracy')\n",
        "plt.xlabel('epoch')\n",
        "plt.legend(['train', 'test'], loc='upper left')\n",
        "plt.show()\n",
        "# summarize history for loss\n",
        "plt.plot(history.history['loss'])\n",
        "plt.plot(history.history['val_loss'])\n",
        "plt.title('model loss')\n",
        "plt.ylabel('loss')\n",
        "plt.xlabel('epoch')\n",
        "plt.legend(['train', 'test'], loc='upper left')\n",
        "plt.show()"
      ],
      "metadata": {
        "id": "5VosB0AWCfSb",
        "colab": {
          "base_uri": "https://localhost:8080/",
          "height": 573
        },
        "outputId": "eb787489-d990-4781-ac7b-1e60c25bc670"
      },
      "execution_count": 12,
      "outputs": [
        {
          "output_type": "display_data",
          "data": {
            "text/plain": [
              "<Figure size 432x288 with 1 Axes>"
            ],
            "image/png": "[encoded data removed]"
          },
          "metadata": {
            "needs_background": "light"
          }
        },
        {
          "output_type": "display_data",
          "data": {
            "text/plain": [
              "<Figure size 432x288 with 1 Axes>"
            ],
            "image/png": "[encoded data removed]"
          },
          "metadata": {
            "needs_background": "light"
          }
        }
      ]
    },
    {
      "cell_type": "code",
      "source": [
        "classes = ['acne-cystic', 'acne-excoriated', 'acne-open-comedo', \n",
        "           'acne-pustular', 'acne-scar', 'closed-comedo', 'milia',\n",
        "           'perioral-dermatitis', 'Rhinophyma', 'Rosacea', 'rosacea-nose']\n",
        "predictions = model.predict(test_data)\n",
        "print(test_data)\n",
        "prediction_array = np.argmax(predictions, axis=1)\n",
        "for i in prediction_array:\n",
        "  print(classes[i])"
      ],
      "metadata": {
        "id": "AI6ceskQQfC-",
        "colab": {
          "base_uri": "https://localhost:8080/"
        },
        "outputId": "61f20a7c-9c3d-46a5-ef35-476b7a59e4a0"
      },
      "execution_count": 13,
      "outputs": [
        {
          "output_type": "stream",
          "name": "stdout",
          "text": [
            "<keras.preprocessing.image.DirectoryIterator object at 0x7fb8860d00d0>\n",
            "Rhinophyma\n",
            "acne-excoriated\n",
            "acne-excoriated\n",
            "acne-excoriated\n",
            "Rosacea\n",
            "Rosacea\n",
            "rosacea-nose\n",
            "acne-pustular\n",
            "Rosacea\n",
            "rosacea-nose\n",
            "rosacea-nose\n",
            "acne-excoriated\n",
            "closed-comedo\n",
            "acne-excoriated\n",
            "acne-pustular\n",
            "acne-pustular\n",
            "closed-comedo\n",
            "rosacea-nose\n",
            "acne-open-comedo\n",
            "acne-scar\n",
            "acne-scar\n",
            "acne-excoriated\n",
            "acne-pustular\n",
            "Rosacea\n",
            "rosacea-nose\n",
            "acne-excoriated\n",
            "acne-open-comedo\n",
            "acne-excoriated\n",
            "closed-comedo\n"
          ]
        }
      ]
    },
    {
      "cell_type": "markdown",
      "source": [
        "### Saving model(s)"
      ],
      "metadata": {
        "id": "NrvtOPwWCjQp"
      }
    },
    {
      "cell_type": "code",
      "source": [
        "from google.colab import files"
      ],
      "metadata": {
        "id": "dBAKmc-Ay532"
      },
      "execution_count": null,
      "outputs": []
    },
    {
      "cell_type": "code",
      "source": [
        "from tensorflow.keras.models import Sequential, save_model, load_model"
      ],
      "metadata": {
        "id": "-3ZLbn6n--Yv"
      },
      "execution_count": null,
      "outputs": []
    },
    {
      "cell_type": "code",
      "source": [
        "# Save the model\n",
        "filepath = '/content/gdrive/MyDrive/saved_model0'\n",
        "save_model(model, filepath)"
      ],
      "metadata": {
        "id": "GsLy583b_D43"
      },
      "execution_count": null,
      "outputs": []
    },
    {
      "cell_type": "code",
      "source": [
        "!mkdir -p /content/gdrive/MyDrive/saved_model\n",
        "model.save('/content/gdrive/MyDrive/saved_model/capstone_1.2_model')\n",
        "#model.save('capstone_3_model')"
      ],
      "metadata": {
        "id": "dSI5cWlMyQvN"
      },
      "execution_count": null,
      "outputs": []
    },
    {
      "cell_type": "code",
      "source": [
        "files.download('/saved_model/capstone_7_model' + '/saved_model.pb')\n",
        "#files.download('capstone_3_model')"
      ],
      "metadata": {
        "id": "tmujUabgz78U"
      },
      "execution_count": null,
      "outputs": []
    },
    {
      "cell_type": "code",
      "source": [
        "model.save('capstone_1_2_model.hdf5')"
      ],
      "metadata": {
        "id": "Bdq-1bygztlF"
      },
      "execution_count": null,
      "outputs": []
    },
    {
      "cell_type": "code",
      "source": [
        "files.download('capstone_1_2_model.hdf5')"
      ],
      "metadata": {
        "id": "f3vUVGkJz03u"
      },
      "execution_count": null,
      "outputs": []
    },
    {
      "cell_type": "code",
      "source": [
        "tf.saved_model.save(model, '/saved_model/capstone_7.1_model')"
      ],
      "metadata": {
        "id": "1-BPtOhEZf9H"
      },
      "execution_count": null,
      "outputs": []
    },
    {
      "cell_type": "markdown",
      "source": [
        "# UNUSED LINES"
      ],
      "metadata": {
        "id": "jhR3Nf8JutEE"
      }
    },
    {
      "cell_type": "markdown",
      "source": [
        "### unused"
      ],
      "metadata": {
        "id": "VXYRIhUVGDwK"
      }
    },
    {
      "cell_type": "code",
      "source": [
        "export_dir = '/tmp/saved_model'\n",
        "tf.saved_model.save(model, export_dir=export_dir)"
      ],
      "metadata": {
        "id": "SugQDdOay6_-"
      },
      "execution_count": null,
      "outputs": []
    },
    {
      "cell_type": "code",
      "source": [
        "files.download(export_dir + '/saved_model.pb')"
      ],
      "metadata": {
        "id": "fwBUoKZ6zSg9"
      },
      "execution_count": null,
      "outputs": []
    },
    {
      "cell_type": "code",
      "source": [
        "!zip \"/tmp/capstone_0_model.zip\" \"/tmp/capstone_0_model\""
      ],
      "metadata": {
        "id": "uNtmlL_G07pu"
      },
      "execution_count": null,
      "outputs": []
    },
    {
      "cell_type": "code",
      "source": [
        "pickle_out = open(\"model.pkl\", \"wb\")\n",
        "pickle.dump(model, pickle_out)\n",
        "files.download(\"model.pkl\")\n",
        "pickle_out.close()\n"
      ],
      "metadata": {
        "colab": {
          "base_uri": "https://localhost:8080/",
          "height": 52
        },
        "id": "udb-35WBHLQ8",
        "outputId": "0c18bed3-642f-4798-8263-f9d3c54aa986"
      },
      "execution_count": null,
      "outputs": [
        {
          "output_type": "stream",
          "name": "stdout",
          "text": [
            "INFO:tensorflow:Assets written to: ram://d2810cb5-3df8-4d5e-83f4-c9449f48e7fa/assets\n"
          ]
        },
        {
          "output_type": "stream",
          "name": "stderr",
          "text": [
            "INFO:tensorflow:Assets written to: ram://d2810cb5-3df8-4d5e-83f4-c9449f48e7fa/assets\n"
          ]
        },
        {
          "output_type": "display_data",
          "data": {
            "text/plain": [
              "<IPython.core.display.Javascript object>"
            ],
            "application/javascript": [
              "\n",
              "    async function download(id, filename, size) {\n",
              "      if (!google.colab.kernel.accessAllowed) {\n",
              "        return;\n",
              "      }\n",
              "      const div = document.createElement('div');\n",
              "      const label = document.createElement('label');\n",
              "      label.textContent = `Downloading \"${filename}\": `;\n",
              "      div.appendChild(label);\n",
              "      const progress = document.createElement('progress');\n",
              "      progress.max = size;\n",
              "      div.appendChild(progress);\n",
              "      document.body.appendChild(div);\n",
              "\n",
              "      const buffers = [];\n",
              "      let downloaded = 0;\n",
              "\n",
              "      const channel = await google.colab.kernel.comms.open(id);\n",
              "      // Send a message to notify the kernel that we're ready.\n",
              "      channel.send({})\n",
              "\n",
              "      for await (const message of channel.messages) {\n",
              "        // Send a message to notify the kernel that we're ready.\n",
              "        channel.send({})\n",
              "        if (message.buffers) {\n",
              "          for (const buffer of message.buffers) {\n",
              "            buffers.push(buffer);\n",
              "            downloaded += buffer.byteLength;\n",
              "            progress.value = downloaded;\n",
              "          }\n",
              "        }\n",
              "      }\n",
              "      const blob = new Blob(buffers, {type: 'application/binary'});\n",
              "      const a = document.createElement('a');\n",
              "      a.href = window.URL.createObjectURL(blob);\n",
              "      a.download = filename;\n",
              "      div.appendChild(a);\n",
              "      a.click();\n",
              "      div.remove();\n",
              "    }\n",
              "  "
            ]
          },
          "metadata": {}
        },
        {
          "output_type": "display_data",
          "data": {
            "text/plain": [
              "<IPython.core.display.Javascript object>"
            ],
            "application/javascript": [
              "download(\"download_7b35ad89-cc5a-4982-b83f-eee0c579416d\", \"model.pkl\", 14581973)"
            ]
          },
          "metadata": {}
        }
      ]
    },
    {
      "cell_type": "markdown",
      "source": [
        "### Serve (unused)"
      ],
      "metadata": {
        "id": "iNj6GqzIL5jB"
      }
    },
    {
      "cell_type": "code",
      "source": [
        "import tempfile\n",
        "\n",
        "MODEL_DIR = tempfile.gettempdir()\n",
        "version = 1\n",
        "export_path = os.path.join(MODEL_DIR, str(version))\n",
        "print('export_path = {}\\n'.format(export_path))\n",
        "\n",
        "tf.keras.models.save_model(\n",
        "    model,\n",
        "    export_path,\n",
        "    overwrite=True,\n",
        "    include_optimizer=True,\n",
        "    save_format=None,\n",
        "    signatures=None,\n",
        "    options=None\n",
        ")\n",
        "\n",
        "print('\\nSaved model:')\n",
        "!ls -l {export_path}"
      ],
      "metadata": {
        "id": "Bik9aOZFL8qh"
      },
      "execution_count": null,
      "outputs": []
    },
    {
      "cell_type": "code",
      "source": [
        "!saved_model_cli show --dir {export_path} --all"
      ],
      "metadata": {
        "id": "Y7y54x8UL_D5"
      },
      "execution_count": null,
      "outputs": []
    },
    {
      "cell_type": "code",
      "source": [
        "import sys\n",
        "# We need sudo prefix if not on a Google Colab.\n",
        "if 'google.colab' not in sys.modules:\n",
        "  SUDO_IF_NEEDED = 'sudo'\n",
        "else:\n",
        "  SUDO_IF_NEEDED = ''"
      ],
      "metadata": {
        "id": "icTUquajMOeb"
      },
      "execution_count": null,
      "outputs": []
    },
    {
      "cell_type": "code",
      "source": [
        "# This is the same as you would do from your command line, but without the [arch=amd64], and no sudo\n",
        "# You would instead do:\n",
        "# echo \"deb [arch=amd64] http://storage.googleapis.com/tensorflow-serving-apt stable tensorflow-model-server tensorflow-model-server-universal\" | sudo tee /etc/apt/sources.list.d/tensorflow-serving.list && \\\n",
        "# curl https://storage.googleapis.com/tensorflow-serving-apt/tensorflow-serving.release.pub.gpg | sudo apt-key add -\n",
        "\n",
        "!echo \"deb http://storage.googleapis.com/tensorflow-serving-apt stable tensorflow-model-server tensorflow-model-server-universal\" | {SUDO_IF_NEEDED} tee /etc/apt/sources.list.d/tensorflow-serving.list && \\\n",
        "curl https://storage.googleapis.com/tensorflow-serving-apt/tensorflow-serving.release.pub.gpg | {SUDO_IF_NEEDED} apt-key add -\n",
        "!{SUDO_IF_NEEDED} apt update"
      ],
      "metadata": {
        "id": "_W81tPyhMUN5"
      },
      "execution_count": null,
      "outputs": []
    },
    {
      "cell_type": "code",
      "source": [
        "!{SUDO_IF_NEEDED} apt-get install tensorflow-model-server"
      ],
      "metadata": {
        "id": "9yC2O6h8MZqA"
      },
      "execution_count": null,
      "outputs": []
    },
    {
      "cell_type": "code",
      "source": [
        "os.environ[\"MODEL_DIR\"] = MODEL_DIR"
      ],
      "metadata": {
        "id": "qYWIUWTHMcFK"
      },
      "execution_count": null,
      "outputs": []
    },
    {
      "cell_type": "code",
      "source": [
        "%%bash --bg \n",
        "nohup tensorflow_model_server \\\n",
        "  --rest_api_port=8501 \\\n",
        "  --model_name=acne_detection \\\n",
        "  --model_base_path=\"${MODEL_DIR}\" >server.log 2>&1"
      ],
      "metadata": {
        "id": "tPLLa1p6Mjlx"
      },
      "execution_count": null,
      "outputs": []
    },
    {
      "cell_type": "code",
      "source": [
        "!tail server.log"
      ],
      "metadata": {
        "id": "OwxV09prMnHq"
      },
      "execution_count": null,
      "outputs": []
    },
    {
      "cell_type": "code",
      "source": [
        "def show(idx, title):\n",
        "  plt.figure()\n",
        "  plt.imshow(test_data[idx].reshape(28,28))\n",
        "  plt.axis('off')\n",
        "  plt.title('\\n\\n{}'.format(title), fontdict={'size': 16})\n",
        "\n",
        "import random\n",
        "rando = random.randint(0,len(test_data)-1)\n",
        "show(rando, 'An Example Image: {}'.format(classes[test_labels[rando]]))"
      ],
      "metadata": {
        "id": "dJ4d1cW4MphR"
      },
      "execution_count": null,
      "outputs": []
    },
    {
      "cell_type": "code",
      "source": [
        "import json\n",
        "data = json.dumps({\"signature_name\": \"serving_default\", \"instances\": test_data[0:3].tolist()})\n",
        "print('Data: {} ... {}'.format(data[:50], data[len(data)-52:]))"
      ],
      "metadata": {
        "id": "biB6YIt4NJhx"
      },
      "execution_count": null,
      "outputs": []
    },
    {
      "cell_type": "markdown",
      "source": [
        "### using vgg16 (unused)"
      ],
      "metadata": {
        "id": "4SgqxnS4NyZE"
      }
    },
    {
      "cell_type": "code",
      "source": [
        "from keras.applications.vgg16 import VGG16\n",
        "\n",
        "base_model = VGG16(weights=\"imagenet\", include_top=False, input_shape=(224,224,3))\n",
        "#base_model.trainable = False ## Not trainable weights\n"
      ],
      "metadata": {
        "id": "lu3tO7DNMaqQ"
      },
      "execution_count": null,
      "outputs": []
    },
    {
      "cell_type": "code",
      "source": [
        "for layer in base_model.layers:\n",
        "    layer.trainable = False"
      ],
      "metadata": {
        "id": "kHBZaq3VP12e"
      },
      "execution_count": null,
      "outputs": []
    },
    {
      "cell_type": "code",
      "source": [
        "for (i,layer) in enumerate(base_model.layers):\n",
        "    print(str(i) + \" \"+ layer.__class__.__name__, layer.trainable)"
      ],
      "metadata": {
        "id": "XGXuoxy3P4Xg"
      },
      "execution_count": null,
      "outputs": []
    },
    {
      "cell_type": "markdown",
      "source": [
        "### unused"
      ],
      "metadata": {
        "id": "nN3larW7Ou-W"
      }
    },
    {
      "cell_type": "code",
      "source": [
        "mobilenet = tf.keras.applications.mobilenet_v2.MobileNetV2(\n",
        "    input_shape=(224, 224, 3),\n",
        "    include_top=False,\n",
        "    weights='imagenet',\n",
        ")"
      ],
      "metadata": {
        "id": "vMsokvfEVMWo"
      },
      "execution_count": null,
      "outputs": []
    },
    {
      "cell_type": "code",
      "source": [
        "mobilenet.trainable = True\n",
        "print(\"Number of layers in the base model are: \", len(mobilenet.layers))\n",
        "print(\"Fine tuning begins\")\n",
        "fine_tune_at = 152\n",
        "print(\"Layers are frozen before 'fine_tune_at' layer\")\n",
        "for layer in mobilenet.layers[:fine_tune_at]:\n",
        "  layer.trainable = False"
      ],
      "metadata": {
        "id": "HHD5PrGwQ2qw"
      },
      "execution_count": null,
      "outputs": []
    },
    {
      "cell_type": "code",
      "source": [
        "def format_image(image, label):\n",
        "    image = tf.image.resize(image, (224, 224))/255.0\n",
        "    return  image, label\n",
        "    \n",
        "test_batch = test_data.map(format_image)"
      ],
      "metadata": {
        "id": "VhGJQE4DZo_M",
        "colab": {
          "base_uri": "https://localhost:8080/",
          "height": 201
        },
        "outputId": "1f4c77f3-d34e-4818-b8a8-d7bf2f08ae5b"
      },
      "execution_count": 1,
      "outputs": [
        {
          "output_type": "error",
          "ename": "NameError",
          "evalue": "ignored",
          "traceback": [
            "\u001b[0;31m---------------------------------------------------------------------------\u001b[0m",
            "\u001b[0;31mNameError\u001b[0m                                 Traceback (most recent call last)",
            "\u001b[0;32m<ipython-input-1-4862dcdca2a9>\u001b[0m in \u001b[0;36m<module>\u001b[0;34m()\u001b[0m\n\u001b[1;32m      3\u001b[0m     \u001b[0;32mreturn\u001b[0m  \u001b[0mimage\u001b[0m\u001b[0;34m,\u001b[0m \u001b[0mlabel\u001b[0m\u001b[0;34m\u001b[0m\u001b[0;34m\u001b[0m\u001b[0m\n\u001b[1;32m      4\u001b[0m \u001b[0;34m\u001b[0m\u001b[0m\n\u001b[0;32m----> 5\u001b[0;31m \u001b[0mtest_batch\u001b[0m \u001b[0;34m=\u001b[0m \u001b[0mtest_data\u001b[0m\u001b[0;34m.\u001b[0m\u001b[0mmap\u001b[0m\u001b[0;34m(\u001b[0m\u001b[0mformat_image\u001b[0m\u001b[0;34m)\u001b[0m\u001b[0;34m\u001b[0m\u001b[0;34m\u001b[0m\u001b[0m\n\u001b[0m",
            "\u001b[0;31mNameError\u001b[0m: name 'test_data' is not defined"
          ]
        }
      ]
    }
  ]
}